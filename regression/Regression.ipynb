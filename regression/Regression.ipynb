{
 "cells": [
  {
   "cell_type": "code",
   "execution_count": 17,
   "metadata": {},
   "outputs": [],
   "source": [
    "import pandas as pd \n",
    "import quandl \n",
    "import math \n",
    "import numpy as np \n",
    "from sklearn.model_selection import train_test_split\n",
    "from sklearn import svm,preprocessing\n",
    "from sklearn.linear_model import LinearRegression\n"
   ]
  },
  {
   "cell_type": "code",
   "execution_count": null,
   "metadata": {},
   "outputs": [],
   "source": [
    "df = quandl.get(\"WIKI/GOOGL\")\n",
    "\n",
    "# below aer the features \n",
    "\n",
    "df = df[['Adj. Open','Adj. High','Adj. Low','Adj. Close','Adj. Volume']]\n",
    "\n",
    "# high low percentage \n",
    "df['HL_PCT'] = (df['Adj. High']-df['Adj. Close']) /df['Adj. Close'] * 100.0  \n",
    "\n",
    "# and daily change \n",
    "\n",
    "df['PCT_CHANGE'] = (df['Adj. Close']-df['Adj. Open']) /df['Adj. Open'] * 100.0  \n",
    "\n",
    "\n",
    "df =df[['Adj. Close','HL_PCT','PCT_CHANGE','Adj. Volume']]\n",
    "\n",
    "forecast_column = 'Adj. Close'\n",
    "\n",
    "# filling in  the blanks \n",
    "\n",
    "df.fillna(-99999,inplace=True)\n",
    "\n",
    "# take the ceiling ( rounds to the nearest and returns int )\n",
    "\n",
    "forecast_out = int(math.ceil(0.01*len(df)))\n",
    "\n",
    "print(forecast_out)\n",
    "\n",
    "\n",
    "df['label'] = df[forecast_column].shift(-forecast_out)\n",
    "df.dropna(inplace=True)\n",
    "\n",
    "# print(df.tail())\n",
    "\n",
    "\n",
    "x = np.array(df.drop(['label'],1))\n",
    "y = np.array(df['label'])\n",
    "\n",
    "x = preprocessing.scale(x)\n",
    "\n",
    "# x = x[:-forecast_out+1]\n",
    "\n",
    "df.dropna(inplace=True)\n",
    "\n",
    "y = np.array(df['label'])\n",
    "\n",
    "x_train,x_test,y_train,y_test = train_test_split(x,y,test_size=0.2)\n",
    "\n",
    "clf = svm.SVR()\n",
    "\n",
    "clf.fit(x_train,y_train)\n",
    "\n",
    "accuracy = clf.score(x_test,y_test)\n",
    "\n",
    "print(accuracy)\n"
   ]
  },
  {
   "cell_type": "code",
   "execution_count": null,
   "metadata": {},
   "outputs": [],
   "source": []
  }
 ],
 "metadata": {
  "kernelspec": {
   "display_name": "Python 3",
   "language": "python",
   "name": "python3"
  },
  "language_info": {
   "codemirror_mode": {
    "name": "ipython",
    "version": 3
   },
   "file_extension": ".py",
   "mimetype": "text/x-python",
   "name": "python",
   "nbconvert_exporter": "python",
   "pygments_lexer": "ipython3",
   "version": "3.7.3"
  }
 },
 "nbformat": 4,
 "nbformat_minor": 2
}
