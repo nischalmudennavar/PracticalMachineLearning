{
 "cells": [
  {
   "cell_type": "code",
   "execution_count": 5,
   "metadata": {},
   "outputs": [],
   "source": [
    "import pandas as pd \n",
    "import quandl \n",
    "import math \n",
    "import nupmy as np \n",
    "from sklearn import preprocessing , cross_validation, svm\n"
   ]
  },
  {
   "cell_type": "code",
   "execution_count": 9,
   "metadata": {},
   "outputs": [
    {
     "name": "stdout",
     "output_type": "stream",
     "text": [
      "            Adj. Close    HL_PCT  PCT_CHANGE  Adj. Volume    label\n",
      "Date                                                              \n",
      "2016-11-04      781.10  0.944821    1.270582    1970603.0  1094.00\n",
      "2016-11-07      802.03  0.370310    0.890622    1992570.0  1053.15\n",
      "2016-11-08      811.98  0.500012    1.240602    1769069.0  1026.55\n",
      "2016-11-09      805.59  0.759692    0.468927    3098510.0  1054.09\n",
      "2016-11-10      780.29  3.815248   -3.667901    5909609.0  1006.94\n"
     ]
    }
   ],
   "source": [
    "df = quandl.get(\"WIKI/GOOGL\")\n",
    "\n",
    "# below aer the features \n",
    "\n",
    "df = df[['Adj. Open','Adj. High','Adj. Low','Adj. Close','Adj. Volume']]\n",
    "\n",
    "# high low percentage \n",
    "df['HL_PCT'] = (df['Adj. High']-df['Adj. Close']) /df['Adj. Close'] * 100.0  \n",
    "\n",
    "# and daily change \n",
    "\n",
    "df['PCT_CHANGE'] = (df['Adj. Close']-df['Adj. Open']) /df['Adj. Open'] * 100.0  \n",
    "\n",
    "\n",
    "df =df[['Adj. Close','HL_PCT','PCT_CHANGE','Adj. Volume']]\n",
    "\n",
    "forecast_column = 'Adj. Close'\n",
    "\n",
    "# filling in  the blanks \n",
    "\n",
    "df.fillna(-99999,inplace=True)\n",
    "\n",
    "# take the ceiling ( rounds to the nearest and returns int )\n",
    "\n",
    "forecast_out = int(math.ceil(0.1*len(df)))\n",
    "\n",
    "\n",
    "df['label'] = df[forecast_column].shift(-forecast_out)\n",
    "df.dropna(inplace=True)\n",
    "\n",
    "print(df.tail())\n"
   ]
  },
  {
   "cell_type": "code",
   "execution_count": null,
   "metadata": {},
   "outputs": [],
   "source": []
  }
 ],
 "metadata": {
  "kernelspec": {
   "display_name": "Python 3",
   "language": "python",
   "name": "python3"
  },
  "language_info": {
   "codemirror_mode": {
    "name": "ipython",
    "version": 3
   },
   "file_extension": ".py",
   "mimetype": "text/x-python",
   "name": "python",
   "nbconvert_exporter": "python",
   "pygments_lexer": "ipython3",
   "version": "3.7.3"
  }
 },
 "nbformat": 4,
 "nbformat_minor": 2
}
